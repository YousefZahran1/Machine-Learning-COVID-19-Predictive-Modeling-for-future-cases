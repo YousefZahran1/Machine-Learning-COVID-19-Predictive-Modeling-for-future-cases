{
  "nbformat": 4,
  "nbformat_minor": 0,
  "metadata": {
    "colab": {
      "provenance": [],
      "toc_visible": true
    },
    "kernelspec": {
      "name": "python3",
      "display_name": "Python 3"
    },
    "language_info": {
      "name": "python"
    }
  },
  "cells": [
    {
      "cell_type": "markdown",
      "source": [
        "# **Importing libraries**"
      ],
      "metadata": {
        "id": "dV-uwoV03DId"
      }
    },
    {
      "cell_type": "code",
      "execution_count": 33,
      "metadata": {
        "id": "fpPT20tE1Fv3"
      },
      "outputs": [],
      "source": [
        "import pandas as pd\n",
        "import numpy as np\n",
        "from sklearn.model_selection import train_test_split\n",
        "from sklearn.ensemble import RandomForestRegressor\n",
        "from sklearn.metrics import mean_squared_error, r2_score\n",
        "from sklearn.impute import SimpleImputer\n",
        "import matplotlib.pyplot as plt"
      ]
    },
    {
      "cell_type": "markdown",
      "source": [
        "# **Load Dataset**"
      ],
      "metadata": {
        "id": "_8Mtq5Ce3y_p"
      }
    },
    {
      "cell_type": "code",
      "source": [
        "data = pd.read_csv('/content/time_series_covid19_confirmed_global.csv')"
      ],
      "metadata": {
        "id": "XIJi-bBn3DRj"
      },
      "execution_count": 34,
      "outputs": []
    },
    {
      "cell_type": "markdown",
      "source": [
        "# **Display first few rows**"
      ],
      "metadata": {
        "id": "yb-UlTXb33DE"
      }
    },
    {
      "cell_type": "code",
      "source": [
        "data.head()"
      ],
      "metadata": {
        "colab": {
          "base_uri": "https://localhost:8080/",
          "height": 255
        },
        "id": "mosvDNKG32ml",
        "outputId": "2cb456f5-2a34-4a6e-dd09-b3bcf2d3cf3a"
      },
      "execution_count": 35,
      "outputs": [
        {
          "output_type": "execute_result",
          "data": {
            "text/plain": [
              "  Province/State Country/Region       Lat       Long  1/22/20  1/23/20  \\\n",
              "0            NaN    Afghanistan  33.93911  67.709953        0        0   \n",
              "1            NaN        Albania  41.15330  20.168300        0        0   \n",
              "2            NaN        Algeria  28.03390   1.659600        0        0   \n",
              "3            NaN        Andorra  42.50630   1.521800        0        0   \n",
              "4            NaN         Angola -11.20270  17.873900        0        0   \n",
              "\n",
              "   1/24/20  1/25/20  1/26/20  1/27/20  ...  2/28/23  3/1/23  3/2/23  3/3/23  \\\n",
              "0        0        0        0        0  ...   209322  209340  209358  209362   \n",
              "1        0        0        0        0  ...   334391  334408  334408  334427   \n",
              "2        0        0        0        0  ...   271441  271448  271463  271469   \n",
              "3        0        0        0        0  ...    47866   47875   47875   47875   \n",
              "4        0        0        0        0  ...   105255  105277  105277  105277   \n",
              "\n",
              "   3/4/23  3/5/23  3/6/23  3/7/23  3/8/23  3/9/23  \n",
              "0  209369  209390  209406  209436  209451  209451  \n",
              "1  334427  334427  334427  334427  334443  334457  \n",
              "2  271469  271477  271477  271490  271494  271496  \n",
              "3   47875   47875   47875   47875   47890   47890  \n",
              "4  105277  105277  105277  105277  105288  105288  \n",
              "\n",
              "[5 rows x 1147 columns]"
            ],
            "text/html": [
              "\n",
              "  <div id=\"df-fc033f33-ccab-4814-866c-3f06d4bb25a8\" class=\"colab-df-container\">\n",
              "    <div>\n",
              "<style scoped>\n",
              "    .dataframe tbody tr th:only-of-type {\n",
              "        vertical-align: middle;\n",
              "    }\n",
              "\n",
              "    .dataframe tbody tr th {\n",
              "        vertical-align: top;\n",
              "    }\n",
              "\n",
              "    .dataframe thead th {\n",
              "        text-align: right;\n",
              "    }\n",
              "</style>\n",
              "<table border=\"1\" class=\"dataframe\">\n",
              "  <thead>\n",
              "    <tr style=\"text-align: right;\">\n",
              "      <th></th>\n",
              "      <th>Province/State</th>\n",
              "      <th>Country/Region</th>\n",
              "      <th>Lat</th>\n",
              "      <th>Long</th>\n",
              "      <th>1/22/20</th>\n",
              "      <th>1/23/20</th>\n",
              "      <th>1/24/20</th>\n",
              "      <th>1/25/20</th>\n",
              "      <th>1/26/20</th>\n",
              "      <th>1/27/20</th>\n",
              "      <th>...</th>\n",
              "      <th>2/28/23</th>\n",
              "      <th>3/1/23</th>\n",
              "      <th>3/2/23</th>\n",
              "      <th>3/3/23</th>\n",
              "      <th>3/4/23</th>\n",
              "      <th>3/5/23</th>\n",
              "      <th>3/6/23</th>\n",
              "      <th>3/7/23</th>\n",
              "      <th>3/8/23</th>\n",
              "      <th>3/9/23</th>\n",
              "    </tr>\n",
              "  </thead>\n",
              "  <tbody>\n",
              "    <tr>\n",
              "      <th>0</th>\n",
              "      <td>NaN</td>\n",
              "      <td>Afghanistan</td>\n",
              "      <td>33.93911</td>\n",
              "      <td>67.709953</td>\n",
              "      <td>0</td>\n",
              "      <td>0</td>\n",
              "      <td>0</td>\n",
              "      <td>0</td>\n",
              "      <td>0</td>\n",
              "      <td>0</td>\n",
              "      <td>...</td>\n",
              "      <td>209322</td>\n",
              "      <td>209340</td>\n",
              "      <td>209358</td>\n",
              "      <td>209362</td>\n",
              "      <td>209369</td>\n",
              "      <td>209390</td>\n",
              "      <td>209406</td>\n",
              "      <td>209436</td>\n",
              "      <td>209451</td>\n",
              "      <td>209451</td>\n",
              "    </tr>\n",
              "    <tr>\n",
              "      <th>1</th>\n",
              "      <td>NaN</td>\n",
              "      <td>Albania</td>\n",
              "      <td>41.15330</td>\n",
              "      <td>20.168300</td>\n",
              "      <td>0</td>\n",
              "      <td>0</td>\n",
              "      <td>0</td>\n",
              "      <td>0</td>\n",
              "      <td>0</td>\n",
              "      <td>0</td>\n",
              "      <td>...</td>\n",
              "      <td>334391</td>\n",
              "      <td>334408</td>\n",
              "      <td>334408</td>\n",
              "      <td>334427</td>\n",
              "      <td>334427</td>\n",
              "      <td>334427</td>\n",
              "      <td>334427</td>\n",
              "      <td>334427</td>\n",
              "      <td>334443</td>\n",
              "      <td>334457</td>\n",
              "    </tr>\n",
              "    <tr>\n",
              "      <th>2</th>\n",
              "      <td>NaN</td>\n",
              "      <td>Algeria</td>\n",
              "      <td>28.03390</td>\n",
              "      <td>1.659600</td>\n",
              "      <td>0</td>\n",
              "      <td>0</td>\n",
              "      <td>0</td>\n",
              "      <td>0</td>\n",
              "      <td>0</td>\n",
              "      <td>0</td>\n",
              "      <td>...</td>\n",
              "      <td>271441</td>\n",
              "      <td>271448</td>\n",
              "      <td>271463</td>\n",
              "      <td>271469</td>\n",
              "      <td>271469</td>\n",
              "      <td>271477</td>\n",
              "      <td>271477</td>\n",
              "      <td>271490</td>\n",
              "      <td>271494</td>\n",
              "      <td>271496</td>\n",
              "    </tr>\n",
              "    <tr>\n",
              "      <th>3</th>\n",
              "      <td>NaN</td>\n",
              "      <td>Andorra</td>\n",
              "      <td>42.50630</td>\n",
              "      <td>1.521800</td>\n",
              "      <td>0</td>\n",
              "      <td>0</td>\n",
              "      <td>0</td>\n",
              "      <td>0</td>\n",
              "      <td>0</td>\n",
              "      <td>0</td>\n",
              "      <td>...</td>\n",
              "      <td>47866</td>\n",
              "      <td>47875</td>\n",
              "      <td>47875</td>\n",
              "      <td>47875</td>\n",
              "      <td>47875</td>\n",
              "      <td>47875</td>\n",
              "      <td>47875</td>\n",
              "      <td>47875</td>\n",
              "      <td>47890</td>\n",
              "      <td>47890</td>\n",
              "    </tr>\n",
              "    <tr>\n",
              "      <th>4</th>\n",
              "      <td>NaN</td>\n",
              "      <td>Angola</td>\n",
              "      <td>-11.20270</td>\n",
              "      <td>17.873900</td>\n",
              "      <td>0</td>\n",
              "      <td>0</td>\n",
              "      <td>0</td>\n",
              "      <td>0</td>\n",
              "      <td>0</td>\n",
              "      <td>0</td>\n",
              "      <td>...</td>\n",
              "      <td>105255</td>\n",
              "      <td>105277</td>\n",
              "      <td>105277</td>\n",
              "      <td>105277</td>\n",
              "      <td>105277</td>\n",
              "      <td>105277</td>\n",
              "      <td>105277</td>\n",
              "      <td>105277</td>\n",
              "      <td>105288</td>\n",
              "      <td>105288</td>\n",
              "    </tr>\n",
              "  </tbody>\n",
              "</table>\n",
              "<p>5 rows × 1147 columns</p>\n",
              "</div>\n",
              "    <div class=\"colab-df-buttons\">\n",
              "\n",
              "  <div class=\"colab-df-container\">\n",
              "    <button class=\"colab-df-convert\" onclick=\"convertToInteractive('df-fc033f33-ccab-4814-866c-3f06d4bb25a8')\"\n",
              "            title=\"Convert this dataframe to an interactive table.\"\n",
              "            style=\"display:none;\">\n",
              "\n",
              "  <svg xmlns=\"http://www.w3.org/2000/svg\" height=\"24px\" viewBox=\"0 -960 960 960\">\n",
              "    <path d=\"M120-120v-720h720v720H120Zm60-500h600v-160H180v160Zm220 220h160v-160H400v160Zm0 220h160v-160H400v160ZM180-400h160v-160H180v160Zm440 0h160v-160H620v160ZM180-180h160v-160H180v160Zm440 0h160v-160H620v160Z\"/>\n",
              "  </svg>\n",
              "    </button>\n",
              "\n",
              "  <style>\n",
              "    .colab-df-container {\n",
              "      display:flex;\n",
              "      gap: 12px;\n",
              "    }\n",
              "\n",
              "    .colab-df-convert {\n",
              "      background-color: #E8F0FE;\n",
              "      border: none;\n",
              "      border-radius: 50%;\n",
              "      cursor: pointer;\n",
              "      display: none;\n",
              "      fill: #1967D2;\n",
              "      height: 32px;\n",
              "      padding: 0 0 0 0;\n",
              "      width: 32px;\n",
              "    }\n",
              "\n",
              "    .colab-df-convert:hover {\n",
              "      background-color: #E2EBFA;\n",
              "      box-shadow: 0px 1px 2px rgba(60, 64, 67, 0.3), 0px 1px 3px 1px rgba(60, 64, 67, 0.15);\n",
              "      fill: #174EA6;\n",
              "    }\n",
              "\n",
              "    .colab-df-buttons div {\n",
              "      margin-bottom: 4px;\n",
              "    }\n",
              "\n",
              "    [theme=dark] .colab-df-convert {\n",
              "      background-color: #3B4455;\n",
              "      fill: #D2E3FC;\n",
              "    }\n",
              "\n",
              "    [theme=dark] .colab-df-convert:hover {\n",
              "      background-color: #434B5C;\n",
              "      box-shadow: 0px 1px 3px 1px rgba(0, 0, 0, 0.15);\n",
              "      filter: drop-shadow(0px 1px 2px rgba(0, 0, 0, 0.3));\n",
              "      fill: #FFFFFF;\n",
              "    }\n",
              "  </style>\n",
              "\n",
              "    <script>\n",
              "      const buttonEl =\n",
              "        document.querySelector('#df-fc033f33-ccab-4814-866c-3f06d4bb25a8 button.colab-df-convert');\n",
              "      buttonEl.style.display =\n",
              "        google.colab.kernel.accessAllowed ? 'block' : 'none';\n",
              "\n",
              "      async function convertToInteractive(key) {\n",
              "        const element = document.querySelector('#df-fc033f33-ccab-4814-866c-3f06d4bb25a8');\n",
              "        const dataTable =\n",
              "          await google.colab.kernel.invokeFunction('convertToInteractive',\n",
              "                                                    [key], {});\n",
              "        if (!dataTable) return;\n",
              "\n",
              "        const docLinkHtml = 'Like what you see? Visit the ' +\n",
              "          '<a target=\"_blank\" href=https://colab.research.google.com/notebooks/data_table.ipynb>data table notebook</a>'\n",
              "          + ' to learn more about interactive tables.';\n",
              "        element.innerHTML = '';\n",
              "        dataTable['output_type'] = 'display_data';\n",
              "        await google.colab.output.renderOutput(dataTable, element);\n",
              "        const docLink = document.createElement('div');\n",
              "        docLink.innerHTML = docLinkHtml;\n",
              "        element.appendChild(docLink);\n",
              "      }\n",
              "    </script>\n",
              "  </div>\n",
              "\n",
              "\n",
              "<div id=\"df-2d1b1b55-6dda-406b-884d-906ae299fc22\">\n",
              "  <button class=\"colab-df-quickchart\" onclick=\"quickchart('df-2d1b1b55-6dda-406b-884d-906ae299fc22')\"\n",
              "            title=\"Suggest charts\"\n",
              "            style=\"display:none;\">\n",
              "\n",
              "<svg xmlns=\"http://www.w3.org/2000/svg\" height=\"24px\"viewBox=\"0 0 24 24\"\n",
              "     width=\"24px\">\n",
              "    <g>\n",
              "        <path d=\"M19 3H5c-1.1 0-2 .9-2 2v14c0 1.1.9 2 2 2h14c1.1 0 2-.9 2-2V5c0-1.1-.9-2-2-2zM9 17H7v-7h2v7zm4 0h-2V7h2v10zm4 0h-2v-4h2v4z\"/>\n",
              "    </g>\n",
              "</svg>\n",
              "  </button>\n",
              "\n",
              "<style>\n",
              "  .colab-df-quickchart {\n",
              "      --bg-color: #E8F0FE;\n",
              "      --fill-color: #1967D2;\n",
              "      --hover-bg-color: #E2EBFA;\n",
              "      --hover-fill-color: #174EA6;\n",
              "      --disabled-fill-color: #AAA;\n",
              "      --disabled-bg-color: #DDD;\n",
              "  }\n",
              "\n",
              "  [theme=dark] .colab-df-quickchart {\n",
              "      --bg-color: #3B4455;\n",
              "      --fill-color: #D2E3FC;\n",
              "      --hover-bg-color: #434B5C;\n",
              "      --hover-fill-color: #FFFFFF;\n",
              "      --disabled-bg-color: #3B4455;\n",
              "      --disabled-fill-color: #666;\n",
              "  }\n",
              "\n",
              "  .colab-df-quickchart {\n",
              "    background-color: var(--bg-color);\n",
              "    border: none;\n",
              "    border-radius: 50%;\n",
              "    cursor: pointer;\n",
              "    display: none;\n",
              "    fill: var(--fill-color);\n",
              "    height: 32px;\n",
              "    padding: 0;\n",
              "    width: 32px;\n",
              "  }\n",
              "\n",
              "  .colab-df-quickchart:hover {\n",
              "    background-color: var(--hover-bg-color);\n",
              "    box-shadow: 0 1px 2px rgba(60, 64, 67, 0.3), 0 1px 3px 1px rgba(60, 64, 67, 0.15);\n",
              "    fill: var(--button-hover-fill-color);\n",
              "  }\n",
              "\n",
              "  .colab-df-quickchart-complete:disabled,\n",
              "  .colab-df-quickchart-complete:disabled:hover {\n",
              "    background-color: var(--disabled-bg-color);\n",
              "    fill: var(--disabled-fill-color);\n",
              "    box-shadow: none;\n",
              "  }\n",
              "\n",
              "  .colab-df-spinner {\n",
              "    border: 2px solid var(--fill-color);\n",
              "    border-color: transparent;\n",
              "    border-bottom-color: var(--fill-color);\n",
              "    animation:\n",
              "      spin 1s steps(1) infinite;\n",
              "  }\n",
              "\n",
              "  @keyframes spin {\n",
              "    0% {\n",
              "      border-color: transparent;\n",
              "      border-bottom-color: var(--fill-color);\n",
              "      border-left-color: var(--fill-color);\n",
              "    }\n",
              "    20% {\n",
              "      border-color: transparent;\n",
              "      border-left-color: var(--fill-color);\n",
              "      border-top-color: var(--fill-color);\n",
              "    }\n",
              "    30% {\n",
              "      border-color: transparent;\n",
              "      border-left-color: var(--fill-color);\n",
              "      border-top-color: var(--fill-color);\n",
              "      border-right-color: var(--fill-color);\n",
              "    }\n",
              "    40% {\n",
              "      border-color: transparent;\n",
              "      border-right-color: var(--fill-color);\n",
              "      border-top-color: var(--fill-color);\n",
              "    }\n",
              "    60% {\n",
              "      border-color: transparent;\n",
              "      border-right-color: var(--fill-color);\n",
              "    }\n",
              "    80% {\n",
              "      border-color: transparent;\n",
              "      border-right-color: var(--fill-color);\n",
              "      border-bottom-color: var(--fill-color);\n",
              "    }\n",
              "    90% {\n",
              "      border-color: transparent;\n",
              "      border-bottom-color: var(--fill-color);\n",
              "    }\n",
              "  }\n",
              "</style>\n",
              "\n",
              "  <script>\n",
              "    async function quickchart(key) {\n",
              "      const quickchartButtonEl =\n",
              "        document.querySelector('#' + key + ' button');\n",
              "      quickchartButtonEl.disabled = true;  // To prevent multiple clicks.\n",
              "      quickchartButtonEl.classList.add('colab-df-spinner');\n",
              "      try {\n",
              "        const charts = await google.colab.kernel.invokeFunction(\n",
              "            'suggestCharts', [key], {});\n",
              "      } catch (error) {\n",
              "        console.error('Error during call to suggestCharts:', error);\n",
              "      }\n",
              "      quickchartButtonEl.classList.remove('colab-df-spinner');\n",
              "      quickchartButtonEl.classList.add('colab-df-quickchart-complete');\n",
              "    }\n",
              "    (() => {\n",
              "      let quickchartButtonEl =\n",
              "        document.querySelector('#df-2d1b1b55-6dda-406b-884d-906ae299fc22 button');\n",
              "      quickchartButtonEl.style.display =\n",
              "        google.colab.kernel.accessAllowed ? 'block' : 'none';\n",
              "    })();\n",
              "  </script>\n",
              "</div>\n",
              "\n",
              "    </div>\n",
              "  </div>\n"
            ],
            "application/vnd.google.colaboratory.intrinsic+json": {
              "type": "dataframe",
              "variable_name": "data"
            }
          },
          "metadata": {},
          "execution_count": 35
        }
      ]
    },
    {
      "cell_type": "markdown",
      "source": [
        "# **Data preprocessing**"
      ],
      "metadata": {
        "id": "PFYsGxKw4pCH"
      }
    },
    {
      "cell_type": "markdown",
      "source": [
        "**Dropping unnecessary columns**"
      ],
      "metadata": {
        "id": "B2W1NT-n4zKo"
      }
    },
    {
      "cell_type": "code",
      "source": [
        "data = data.drop(columns=['Province/State'])"
      ],
      "metadata": {
        "id": "wuUfsb674Hii"
      },
      "execution_count": 36,
      "outputs": []
    },
    {
      "cell_type": "markdown",
      "source": [
        "**Fill missing values with 0**\n"
      ],
      "metadata": {
        "id": "GSFf6TaT471w"
      }
    },
    {
      "cell_type": "code",
      "source": [
        "data = data.fillna(0)"
      ],
      "metadata": {
        "id": "JCnziL3n43Hy"
      },
      "execution_count": 37,
      "outputs": []
    },
    {
      "cell_type": "markdown",
      "source": [
        "**Transpose the data to have dates as rows and countries/regions as columns**"
      ],
      "metadata": {
        "id": "SNAh-0A95HSw"
      }
    },
    {
      "cell_type": "code",
      "source": [
        "data_transposed = data.set_index(['Country/Region', 'Lat', 'Long']).T"
      ],
      "metadata": {
        "id": "6M0Rcjtm4_OT"
      },
      "execution_count": 38,
      "outputs": []
    },
    {
      "cell_type": "markdown",
      "source": [
        "**Convert index to datetime**"
      ],
      "metadata": {
        "id": "cr-2tP9y5KpW"
      }
    },
    {
      "cell_type": "code",
      "source": [
        "data_transposed.index = pd.to_datetime(data_transposed.index)"
      ],
      "metadata": {
        "id": "K2bLWa-u5KZ2",
        "colab": {
          "base_uri": "https://localhost:8080/"
        },
        "outputId": "5e360a9b-ec92-47d6-ae31-3dc455711cfd"
      },
      "execution_count": 39,
      "outputs": [
        {
          "output_type": "stream",
          "name": "stderr",
          "text": [
            "<ipython-input-39-91a9a9eb9ab0>:1: UserWarning: Could not infer format, so each element will be parsed individually, falling back to `dateutil`. To ensure parsing is consistent and as-expected, please specify a format.\n",
            "  data_transposed.index = pd.to_datetime(data_transposed.index)\n"
          ]
        }
      ]
    },
    {
      "cell_type": "markdown",
      "source": [
        "**Feature Engineering: Adding rolling average and lag features**"
      ],
      "metadata": {
        "id": "pPEu7MSpM6hj"
      }
    },
    {
      "cell_type": "code",
      "source": [
        "data_transposed_rolling = data_transposed.rolling(window=7).mean().fillna(0)\n",
        "data_transposed_diff = data_transposed.diff().fillna(0)\n",
        "data_transposed_combined = pd.concat([data_transposed, data_transposed_rolling, data_transposed_diff], axis=1)\n",
        "data_transposed_combined.columns = [f\"{col}_{suffix}\" for col in data_transposed.columns for suffix in [\"original\", \"rolling\", \"diff\"]]"
      ],
      "metadata": {
        "id": "SYhz3vQLM5Ef"
      },
      "execution_count": 40,
      "outputs": []
    },
    {
      "cell_type": "code",
      "source": [
        "imputer = SimpleImputer(strategy='mean')\n",
        "data_transposed_combined_imputed = pd.DataFrame(imputer.fit_transform(data_transposed_combined), columns=data_transposed_combined.columns)"
      ],
      "metadata": {
        "id": "RTBcKKgxPP6r"
      },
      "execution_count": 41,
      "outputs": []
    },
    {
      "cell_type": "markdown",
      "source": [
        "**Creating supervised learning data**"
      ],
      "metadata": {
        "id": "PLO_GXAO5cGx"
      }
    },
    {
      "cell_type": "code",
      "source": [
        "look_back = 3\n",
        "X, y = [], []\n",
        "for i in range(len(data_transposed_combined) - look_back):\n",
        "    X.append(data_transposed_combined.iloc[i:i + look_back].values.flatten())\n",
        "    y.append(data_transposed.iloc[i + look_back].values)\n",
        "\n",
        "X, y = np.array(X), np.array(y)"
      ],
      "metadata": {
        "id": "j9QEvdQr5VFN"
      },
      "execution_count": 42,
      "outputs": []
    },
    {
      "cell_type": "markdown",
      "source": [
        "# **Split the data into training and testing sets**"
      ],
      "metadata": {
        "id": "xiCBhx9n5ywI"
      }
    },
    {
      "cell_type": "code",
      "source": [
        "X_train, X_test, y_train, y_test = train_test_split(X, y, test_size=0.2, random_state=42)"
      ],
      "metadata": {
        "id": "Iq_P9mG_5vXY"
      },
      "execution_count": 43,
      "outputs": []
    },
    {
      "cell_type": "markdown",
      "source": [
        "# **hyperparameters for RandomForestRegressor**\n",
        "\n",
        "\n"
      ],
      "metadata": {
        "id": "EQa819FuQez6"
      }
    },
    {
      "cell_type": "code",
      "source": [
        "best_model = RandomForestRegressor(n_estimators=150, max_depth=20, min_samples_split=5, min_samples_leaf=2, random_state=42)\n",
        "best_model.fit(X_train, y_train)"
      ],
      "metadata": {
        "colab": {
          "base_uri": "https://localhost:8080/",
          "height": 92
        },
        "id": "d6u3Ib-kYhm6",
        "outputId": "9454425e-7e53-464f-8324-ef175d496b09"
      },
      "execution_count": 44,
      "outputs": [
        {
          "output_type": "execute_result",
          "data": {
            "text/plain": [
              "RandomForestRegressor(max_depth=20, min_samples_leaf=2, min_samples_split=5,\n",
              "                      n_estimators=150, random_state=42)"
            ],
            "text/html": [
              "<style>#sk-container-id-1 {color: black;background-color: white;}#sk-container-id-1 pre{padding: 0;}#sk-container-id-1 div.sk-toggleable {background-color: white;}#sk-container-id-1 label.sk-toggleable__label {cursor: pointer;display: block;width: 100%;margin-bottom: 0;padding: 0.3em;box-sizing: border-box;text-align: center;}#sk-container-id-1 label.sk-toggleable__label-arrow:before {content: \"▸\";float: left;margin-right: 0.25em;color: #696969;}#sk-container-id-1 label.sk-toggleable__label-arrow:hover:before {color: black;}#sk-container-id-1 div.sk-estimator:hover label.sk-toggleable__label-arrow:before {color: black;}#sk-container-id-1 div.sk-toggleable__content {max-height: 0;max-width: 0;overflow: hidden;text-align: left;background-color: #f0f8ff;}#sk-container-id-1 div.sk-toggleable__content pre {margin: 0.2em;color: black;border-radius: 0.25em;background-color: #f0f8ff;}#sk-container-id-1 input.sk-toggleable__control:checked~div.sk-toggleable__content {max-height: 200px;max-width: 100%;overflow: auto;}#sk-container-id-1 input.sk-toggleable__control:checked~label.sk-toggleable__label-arrow:before {content: \"▾\";}#sk-container-id-1 div.sk-estimator input.sk-toggleable__control:checked~label.sk-toggleable__label {background-color: #d4ebff;}#sk-container-id-1 div.sk-label input.sk-toggleable__control:checked~label.sk-toggleable__label {background-color: #d4ebff;}#sk-container-id-1 input.sk-hidden--visually {border: 0;clip: rect(1px 1px 1px 1px);clip: rect(1px, 1px, 1px, 1px);height: 1px;margin: -1px;overflow: hidden;padding: 0;position: absolute;width: 1px;}#sk-container-id-1 div.sk-estimator {font-family: monospace;background-color: #f0f8ff;border: 1px dotted black;border-radius: 0.25em;box-sizing: border-box;margin-bottom: 0.5em;}#sk-container-id-1 div.sk-estimator:hover {background-color: #d4ebff;}#sk-container-id-1 div.sk-parallel-item::after {content: \"\";width: 100%;border-bottom: 1px solid gray;flex-grow: 1;}#sk-container-id-1 div.sk-label:hover label.sk-toggleable__label {background-color: #d4ebff;}#sk-container-id-1 div.sk-serial::before {content: \"\";position: absolute;border-left: 1px solid gray;box-sizing: border-box;top: 0;bottom: 0;left: 50%;z-index: 0;}#sk-container-id-1 div.sk-serial {display: flex;flex-direction: column;align-items: center;background-color: white;padding-right: 0.2em;padding-left: 0.2em;position: relative;}#sk-container-id-1 div.sk-item {position: relative;z-index: 1;}#sk-container-id-1 div.sk-parallel {display: flex;align-items: stretch;justify-content: center;background-color: white;position: relative;}#sk-container-id-1 div.sk-item::before, #sk-container-id-1 div.sk-parallel-item::before {content: \"\";position: absolute;border-left: 1px solid gray;box-sizing: border-box;top: 0;bottom: 0;left: 50%;z-index: -1;}#sk-container-id-1 div.sk-parallel-item {display: flex;flex-direction: column;z-index: 1;position: relative;background-color: white;}#sk-container-id-1 div.sk-parallel-item:first-child::after {align-self: flex-end;width: 50%;}#sk-container-id-1 div.sk-parallel-item:last-child::after {align-self: flex-start;width: 50%;}#sk-container-id-1 div.sk-parallel-item:only-child::after {width: 0;}#sk-container-id-1 div.sk-dashed-wrapped {border: 1px dashed gray;margin: 0 0.4em 0.5em 0.4em;box-sizing: border-box;padding-bottom: 0.4em;background-color: white;}#sk-container-id-1 div.sk-label label {font-family: monospace;font-weight: bold;display: inline-block;line-height: 1.2em;}#sk-container-id-1 div.sk-label-container {text-align: center;}#sk-container-id-1 div.sk-container {/* jupyter's `normalize.less` sets `[hidden] { display: none; }` but bootstrap.min.css set `[hidden] { display: none !important; }` so we also need the `!important` here to be able to override the default hidden behavior on the sphinx rendered scikit-learn.org. See: https://github.com/scikit-learn/scikit-learn/issues/21755 */display: inline-block !important;position: relative;}#sk-container-id-1 div.sk-text-repr-fallback {display: none;}</style><div id=\"sk-container-id-1\" class=\"sk-top-container\"><div class=\"sk-text-repr-fallback\"><pre>RandomForestRegressor(max_depth=20, min_samples_leaf=2, min_samples_split=5,\n",
              "                      n_estimators=150, random_state=42)</pre><b>In a Jupyter environment, please rerun this cell to show the HTML representation or trust the notebook. <br />On GitHub, the HTML representation is unable to render, please try loading this page with nbviewer.org.</b></div><div class=\"sk-container\" hidden><div class=\"sk-item\"><div class=\"sk-estimator sk-toggleable\"><input class=\"sk-toggleable__control sk-hidden--visually\" id=\"sk-estimator-id-1\" type=\"checkbox\" checked><label for=\"sk-estimator-id-1\" class=\"sk-toggleable__label sk-toggleable__label-arrow\">RandomForestRegressor</label><div class=\"sk-toggleable__content\"><pre>RandomForestRegressor(max_depth=20, min_samples_leaf=2, min_samples_split=5,\n",
              "                      n_estimators=150, random_state=42)</pre></div></div></div></div></div>"
            ]
          },
          "metadata": {},
          "execution_count": 44
        }
      ]
    },
    {
      "cell_type": "markdown",
      "source": [
        "# **Train the decision tree regressor**"
      ],
      "metadata": {
        "id": "qJ-3trCW54ao"
      }
    },
    {
      "cell_type": "markdown",
      "source": [
        "**Predict on the test set**"
      ],
      "metadata": {
        "id": "aN6LaA4E6IKQ"
      }
    },
    {
      "cell_type": "code",
      "source": [
        "y_pred = best_model.predict(X_test)"
      ],
      "metadata": {
        "id": "LGpcC4X8N4by"
      },
      "execution_count": 45,
      "outputs": []
    },
    {
      "cell_type": "markdown",
      "source": [
        "# **Evaluate the model**\n"
      ],
      "metadata": {
        "id": "divg8_de6Zsj"
      }
    },
    {
      "cell_type": "code",
      "source": [
        "mse = mean_squared_error(y_test, y_pred)\n",
        "r2 = r2_score(y_test, y_pred)\n",
        "\n"
      ],
      "metadata": {
        "id": "vtx7HfB_6Syq"
      },
      "execution_count": 46,
      "outputs": []
    },
    {
      "cell_type": "code",
      "source": [
        "print(f'Mean Squared Error: {mse}')\n",
        "print(f'R^2 Score: {r2}')"
      ],
      "metadata": {
        "colab": {
          "base_uri": "https://localhost:8080/"
        },
        "id": "gwfs_8G-6crZ",
        "outputId": "3abc3ea6-b2a2-4d4c-99cb-7bd2ac2762c8"
      },
      "execution_count": 47,
      "outputs": [
        {
          "output_type": "stream",
          "name": "stdout",
          "text": [
            "Mean Squared Error: 121905121.367204\n",
            "R^2 Score: 0.9994425732502794\n"
          ]
        }
      ]
    },
    {
      "cell_type": "markdown",
      "source": [
        "# **Predict future cases (next 30 day)**"
      ],
      "metadata": {
        "id": "8BtBfVJQ7GVJ"
      }
    },
    {
      "cell_type": "code",
      "source": [
        "future_days = 30\n",
        "last_days_data = data_transposed_combined_imputed.iloc[-look_back:].values.flatten().reshape(1, -1)\n",
        "future_predictions = []\n",
        "for _ in range(future_days):\n",
        "    next_day_prediction = best_model.predict(last_days_data)\n",
        "    future_predictions.append(next_day_prediction.flatten())\n",
        "    last_days_data = np.roll(last_days_data, -data_transposed_combined_imputed.shape[1])\n",
        "    last_days_data[0, -data_transposed_combined_imputed.shape[1]:] = np.concatenate([next_day_prediction.flatten(),\n",
        "                                                                             next_day_prediction.flatten(),\n",
        "                                                                             next_day_prediction.flatten()])\n"
      ],
      "metadata": {
        "id": "3xKmNlJX7Iep"
      },
      "execution_count": 48,
      "outputs": []
    },
    {
      "cell_type": "markdown",
      "source": [
        "**Convert predictions to DataFrame**"
      ],
      "metadata": {
        "id": "pI1pomLQ7QM2"
      }
    },
    {
      "cell_type": "code",
      "source": [
        "future_predictions_df = pd.DataFrame(future_predictions, columns=data_transposed.columns)\n"
      ],
      "metadata": {
        "id": "2nE-Y6uw7NVy"
      },
      "execution_count": 49,
      "outputs": []
    },
    {
      "cell_type": "markdown",
      "source": [
        "**Print future predictions**"
      ],
      "metadata": {
        "id": "P1CMQ4LU7eBO"
      }
    },
    {
      "cell_type": "code",
      "source": [
        "print(\"Future Predictions:\")\n",
        "print(future_predictions_df)"
      ],
      "metadata": {
        "colab": {
          "base_uri": "https://localhost:8080/"
        },
        "id": "HP-NbbhR7duc",
        "outputId": "af29d45c-c716-4655-d4d3-8d4ac62a42a2"
      },
      "execution_count": 50,
      "outputs": [
        {
          "output_type": "stream",
          "name": "stdout",
          "text": [
            "Future Predictions:\n",
            "Country/Region    Afghanistan        Albania        Algeria       Andorra  \\\n",
            "Lat                 33.939110      41.153300      28.033900     42.506300   \n",
            "Long               67.709953      20.168300      1.659600      1.521800     \n",
            "0               209404.463460  334426.301587  271479.149437  47878.093595   \n",
            "1               209404.664794  334426.350532  271479.314325  47878.192762   \n",
            "2               209404.664794  334426.350532  271479.314325  47878.192762   \n",
            "3               209404.192413  334426.250341  271479.162135  47878.132762   \n",
            "4               209404.192413  334426.250341  271479.162135  47878.132762   \n",
            "5               209404.192413  334426.250341  271479.162135  47878.132762   \n",
            "6               209404.192413  334426.250341  271479.162135  47878.132762   \n",
            "7               209404.192413  334426.250341  271479.162135  47878.132762   \n",
            "8               209404.192413  334426.250341  271479.162135  47878.132762   \n",
            "9               209404.192413  334426.250341  271479.162135  47878.132762   \n",
            "10              209404.192413  334426.250341  271479.162135  47878.132762   \n",
            "11              209404.192413  334426.250341  271479.162135  47878.132762   \n",
            "12              209404.192413  334426.250341  271479.162135  47878.132762   \n",
            "13              209404.192413  334426.250341  271479.162135  47878.132762   \n",
            "14              209404.192413  334426.250341  271479.162135  47878.132762   \n",
            "15              209404.192413  334426.250341  271479.162135  47878.132762   \n",
            "16              209404.192413  334426.250341  271479.162135  47878.132762   \n",
            "17              209404.192413  334426.250341  271479.162135  47878.132762   \n",
            "18              209404.192413  334426.250341  271479.162135  47878.132762   \n",
            "19              209404.192413  334426.250341  271479.162135  47878.132762   \n",
            "20              209404.192413  334426.250341  271479.162135  47878.132762   \n",
            "21              209404.192413  334426.250341  271479.162135  47878.132762   \n",
            "22              209404.192413  334426.250341  271479.162135  47878.132762   \n",
            "23              209404.192413  334426.250341  271479.162135  47878.132762   \n",
            "24              209404.192413  334426.250341  271479.162135  47878.132762   \n",
            "25              209404.192413  334426.250341  271479.162135  47878.132762   \n",
            "26              209404.192413  334426.250341  271479.162135  47878.132762   \n",
            "27              209404.192413  334426.250341  271479.162135  47878.132762   \n",
            "28              209404.192413  334426.250341  271479.162135  47878.132762   \n",
            "29              209404.192413  334426.250341  271479.162135  47878.132762   \n",
            "\n",
            "Country/Region         Angola  Antarctica Antigua and Barbuda     Argentina  \\\n",
            "Lat                -11.202700  -71.949900           17.060800    -38.416100   \n",
            "Long               17.873900   23.347000          -61.796400    -63.616700    \n",
            "0               105277.638048        11.0              9106.0  1.004460e+07   \n",
            "1               105277.726381        11.0              9106.0  1.004460e+07   \n",
            "2               105277.726381        11.0              9106.0  1.004460e+07   \n",
            "3               105277.682381        11.0              9106.0  1.004460e+07   \n",
            "4               105277.682381        11.0              9106.0  1.004460e+07   \n",
            "5               105277.682381        11.0              9106.0  1.004460e+07   \n",
            "6               105277.682381        11.0              9106.0  1.004460e+07   \n",
            "7               105277.682381        11.0              9106.0  1.004460e+07   \n",
            "8               105277.682381        11.0              9106.0  1.004460e+07   \n",
            "9               105277.682381        11.0              9106.0  1.004460e+07   \n",
            "10              105277.682381        11.0              9106.0  1.004460e+07   \n",
            "11              105277.682381        11.0              9106.0  1.004460e+07   \n",
            "12              105277.682381        11.0              9106.0  1.004460e+07   \n",
            "13              105277.682381        11.0              9106.0  1.004460e+07   \n",
            "14              105277.682381        11.0              9106.0  1.004460e+07   \n",
            "15              105277.682381        11.0              9106.0  1.004460e+07   \n",
            "16              105277.682381        11.0              9106.0  1.004460e+07   \n",
            "17              105277.682381        11.0              9106.0  1.004460e+07   \n",
            "18              105277.682381        11.0              9106.0  1.004460e+07   \n",
            "19              105277.682381        11.0              9106.0  1.004460e+07   \n",
            "20              105277.682381        11.0              9106.0  1.004460e+07   \n",
            "21              105277.682381        11.0              9106.0  1.004460e+07   \n",
            "22              105277.682381        11.0              9106.0  1.004460e+07   \n",
            "23              105277.682381        11.0              9106.0  1.004460e+07   \n",
            "24              105277.682381        11.0              9106.0  1.004460e+07   \n",
            "25              105277.682381        11.0              9106.0  1.004460e+07   \n",
            "26              105277.682381        11.0              9106.0  1.004460e+07   \n",
            "27              105277.682381        11.0              9106.0  1.004460e+07   \n",
            "28              105277.682381        11.0              9106.0  1.004460e+07   \n",
            "29              105277.682381        11.0              9106.0  1.004460e+07   \n",
            "\n",
            "Country/Region        Armenia      Australia  ...       Uruguay  \\\n",
            "Lat                 40.069100     -35.473500  ...    -32.522800   \n",
            "Long               45.038200      149.012400  ...   -55.765800    \n",
            "0               446932.711905  232590.048167  ...  1.034298e+06   \n",
            "1               446931.638571  232590.262444  ...  1.034298e+06   \n",
            "2               446931.638571  232590.262444  ...  1.034298e+06   \n",
            "3               446929.682571  232590.262444  ...  1.034298e+06   \n",
            "4               446929.682571  232590.262444  ...  1.034298e+06   \n",
            "5               446929.682571  232590.262444  ...  1.034298e+06   \n",
            "6               446929.682571  232590.262444  ...  1.034298e+06   \n",
            "7               446929.682571  232590.262444  ...  1.034298e+06   \n",
            "8               446929.682571  232590.262444  ...  1.034298e+06   \n",
            "9               446929.682571  232590.262444  ...  1.034298e+06   \n",
            "10              446929.682571  232590.262444  ...  1.034298e+06   \n",
            "11              446929.682571  232590.262444  ...  1.034298e+06   \n",
            "12              446929.682571  232590.262444  ...  1.034298e+06   \n",
            "13              446929.682571  232590.262444  ...  1.034298e+06   \n",
            "14              446929.682571  232590.262444  ...  1.034298e+06   \n",
            "15              446929.682571  232590.262444  ...  1.034298e+06   \n",
            "16              446929.682571  232590.262444  ...  1.034298e+06   \n",
            "17              446929.682571  232590.262444  ...  1.034298e+06   \n",
            "18              446929.682571  232590.262444  ...  1.034298e+06   \n",
            "19              446929.682571  232590.262444  ...  1.034298e+06   \n",
            "20              446929.682571  232590.262444  ...  1.034298e+06   \n",
            "21              446929.682571  232590.262444  ...  1.034298e+06   \n",
            "22              446929.682571  232590.262444  ...  1.034298e+06   \n",
            "23              446929.682571  232590.262444  ...  1.034298e+06   \n",
            "24              446929.682571  232590.262444  ...  1.034298e+06   \n",
            "25              446929.682571  232590.262444  ...  1.034298e+06   \n",
            "26              446929.682571  232590.262444  ...  1.034298e+06   \n",
            "27              446929.682571  232590.262444  ...  1.034298e+06   \n",
            "28              446929.682571  232590.262444  ...  1.034298e+06   \n",
            "29              446929.682571  232590.262444  ...  1.034298e+06   \n",
            "\n",
            "Country/Region     Uzbekistan     Vanuatu      Venezuela       Vietnam  \\\n",
            "Lat                 41.377491  -15.376700      6.423800      14.058324   \n",
            "Long               64.585262   166.959200    -66.589700     108.277199   \n",
            "0               251105.834151     12014.0  552097.346921  1.152697e+07   \n",
            "1               251106.724984     12014.0  552097.907310  1.152697e+07   \n",
            "2               251106.724984     12014.0  552097.907310  1.152697e+07   \n",
            "3               251106.020984     12014.0  552097.147310  1.152697e+07   \n",
            "4               251106.020984     12014.0  552097.147310  1.152697e+07   \n",
            "5               251106.020984     12014.0  552097.147310  1.152697e+07   \n",
            "6               251106.020984     12014.0  552097.147310  1.152697e+07   \n",
            "7               251106.020984     12014.0  552097.147310  1.152697e+07   \n",
            "8               251106.020984     12014.0  552097.147310  1.152697e+07   \n",
            "9               251106.020984     12014.0  552097.147310  1.152697e+07   \n",
            "10              251106.020984     12014.0  552097.147310  1.152697e+07   \n",
            "11              251106.020984     12014.0  552097.147310  1.152697e+07   \n",
            "12              251106.020984     12014.0  552097.147310  1.152697e+07   \n",
            "13              251106.020984     12014.0  552097.147310  1.152697e+07   \n",
            "14              251106.020984     12014.0  552097.147310  1.152697e+07   \n",
            "15              251106.020984     12014.0  552097.147310  1.152697e+07   \n",
            "16              251106.020984     12014.0  552097.147310  1.152697e+07   \n",
            "17              251106.020984     12014.0  552097.147310  1.152697e+07   \n",
            "18              251106.020984     12014.0  552097.147310  1.152697e+07   \n",
            "19              251106.020984     12014.0  552097.147310  1.152697e+07   \n",
            "20              251106.020984     12014.0  552097.147310  1.152697e+07   \n",
            "21              251106.020984     12014.0  552097.147310  1.152697e+07   \n",
            "22              251106.020984     12014.0  552097.147310  1.152697e+07   \n",
            "23              251106.020984     12014.0  552097.147310  1.152697e+07   \n",
            "24              251106.020984     12014.0  552097.147310  1.152697e+07   \n",
            "25              251106.020984     12014.0  552097.147310  1.152697e+07   \n",
            "26              251106.020984     12014.0  552097.147310  1.152697e+07   \n",
            "27              251106.020984     12014.0  552097.147310  1.152697e+07   \n",
            "28              251106.020984     12014.0  552097.147310  1.152697e+07   \n",
            "29              251106.020984     12014.0  552097.147310  1.152697e+07   \n",
            "\n",
            "Country/Region West Bank and Gaza Winter Olympics 2022       Yemen  \\\n",
            "Lat                     31.952200            39.904200   15.552727   \n",
            "Long                   35.233200            116.407400  48.516388    \n",
            "0                        703228.0                535.0     11945.0   \n",
            "1                        703228.0                535.0     11945.0   \n",
            "2                        703228.0                535.0     11945.0   \n",
            "3                        703228.0                535.0     11945.0   \n",
            "4                        703228.0                535.0     11945.0   \n",
            "5                        703228.0                535.0     11945.0   \n",
            "6                        703228.0                535.0     11945.0   \n",
            "7                        703228.0                535.0     11945.0   \n",
            "8                        703228.0                535.0     11945.0   \n",
            "9                        703228.0                535.0     11945.0   \n",
            "10                       703228.0                535.0     11945.0   \n",
            "11                       703228.0                535.0     11945.0   \n",
            "12                       703228.0                535.0     11945.0   \n",
            "13                       703228.0                535.0     11945.0   \n",
            "14                       703228.0                535.0     11945.0   \n",
            "15                       703228.0                535.0     11945.0   \n",
            "16                       703228.0                535.0     11945.0   \n",
            "17                       703228.0                535.0     11945.0   \n",
            "18                       703228.0                535.0     11945.0   \n",
            "19                       703228.0                535.0     11945.0   \n",
            "20                       703228.0                535.0     11945.0   \n",
            "21                       703228.0                535.0     11945.0   \n",
            "22                       703228.0                535.0     11945.0   \n",
            "23                       703228.0                535.0     11945.0   \n",
            "24                       703228.0                535.0     11945.0   \n",
            "25                       703228.0                535.0     11945.0   \n",
            "26                       703228.0                535.0     11945.0   \n",
            "27                       703228.0                535.0     11945.0   \n",
            "28                       703228.0                535.0     11945.0   \n",
            "29                       703228.0                535.0     11945.0   \n",
            "\n",
            "Country/Region         Zambia       Zimbabwe  \n",
            "Lat                -13.133897     -19.015438  \n",
            "Long               27.849332      29.154857   \n",
            "0               343110.652944  264152.618746  \n",
            "1               343110.452111  264152.164857  \n",
            "2               343110.452111  264152.164857  \n",
            "3               343110.185444  264151.568857  \n",
            "4               343110.185444  264151.568857  \n",
            "5               343110.185444  264151.568857  \n",
            "6               343110.185444  264151.568857  \n",
            "7               343110.185444  264151.568857  \n",
            "8               343110.185444  264151.568857  \n",
            "9               343110.185444  264151.568857  \n",
            "10              343110.185444  264151.568857  \n",
            "11              343110.185444  264151.568857  \n",
            "12              343110.185444  264151.568857  \n",
            "13              343110.185444  264151.568857  \n",
            "14              343110.185444  264151.568857  \n",
            "15              343110.185444  264151.568857  \n",
            "16              343110.185444  264151.568857  \n",
            "17              343110.185444  264151.568857  \n",
            "18              343110.185444  264151.568857  \n",
            "19              343110.185444  264151.568857  \n",
            "20              343110.185444  264151.568857  \n",
            "21              343110.185444  264151.568857  \n",
            "22              343110.185444  264151.568857  \n",
            "23              343110.185444  264151.568857  \n",
            "24              343110.185444  264151.568857  \n",
            "25              343110.185444  264151.568857  \n",
            "26              343110.185444  264151.568857  \n",
            "27              343110.185444  264151.568857  \n",
            "28              343110.185444  264151.568857  \n",
            "29              343110.185444  264151.568857  \n",
            "\n",
            "[30 rows x 289 columns]\n"
          ]
        }
      ]
    },
    {
      "cell_type": "markdown",
      "source": [
        "# **Visualization**"
      ],
      "metadata": {
        "id": "p9RTtZv7oCft"
      }
    },
    {
      "cell_type": "markdown",
      "source": [
        "**Sample a subset of the test data for better visualization**"
      ],
      "metadata": {
        "id": "NmUPHtPFnxYs"
      }
    },
    {
      "cell_type": "code",
      "source": [
        "sample_size = 100\n",
        "indices = np.random.choice(len(y_test), sample_size, replace=False)\n",
        "y_test_sample = y_test[indices]\n",
        "y_pred_sample = y_pred[indices]"
      ],
      "metadata": {
        "id": "0nBtUMCQm-fy"
      },
      "execution_count": 51,
      "outputs": []
    },
    {
      "cell_type": "markdown",
      "source": [
        "**Plot the actual vs predicted for the test set**"
      ],
      "metadata": {
        "id": "hMS6_cTYny5T"
      }
    },
    {
      "cell_type": "code",
      "source": [
        "plt.figure(figsize=(15, 6))\n",
        "plt.plot(y_test_sample.flatten(), label='Actual Cases')\n",
        "plt.plot(y_pred_sample.flatten(), label='Predicted Cases', alpha=0.7)\n",
        "plt.xlabel('Samples')\n",
        "plt.ylabel('Confirmed Cases')\n",
        "plt.title('Actual vs Predicted Cases on Test Set (Sample)')\n",
        "plt.legend()\n",
        "plt.show()"
      ],
      "metadata": {
        "id": "SsrYIalhmCH2",
        "colab": {
          "base_uri": "https://localhost:8080/",
          "height": 562
        },
        "outputId": "807b99c5-9878-421f-b5ae-6b60c8e9bbcd"
      },
      "execution_count": 52,
      "outputs": [
        {
          "output_type": "display_data",
          "data": {
            "text/plain": [
              "<Figure size 1500x600 with 1 Axes>"
            ],
            "image/png": "[encoded data removed]"
          },
          "metadata": {}
        }
      ]
    },
    {
      "cell_type": "markdown",
      "source": [
        " **Plot the actual vs predicted for the last country**"
      ],
      "metadata": {
        "id": "Wd_AfO8L70Y2"
      }
    },
    {
      "cell_type": "code",
      "source": [
        "plt.figure(figsize=(15, 6))\n",
        "plt.plot(range(len(data_transposed)), data_transposed.iloc[:, -1], label='Actual Cases')\n",
        "plt.plot(range(len(data_transposed), len(data_transposed) + future_days), future_predictions_df.iloc[:, -1], label='Predicted Future Cases')\n",
        "plt.xlabel('Days')\n",
        "plt.ylabel('Confirmed Cases')\n",
        "plt.title('COVID-19 Confirmed Cases Prediction')\n",
        "plt.legend()\n",
        "plt.show()"
      ],
      "metadata": {
        "colab": {
          "base_uri": "https://localhost:8080/",
          "height": 553
        },
        "id": "dLkytoql7j0o",
        "outputId": "0ec929a8-93b7-4be4-a1bf-d61120f0f691"
      },
      "execution_count": 53,
      "outputs": [
        {
          "output_type": "display_data",
          "data": {
            "text/plain": [
              "<Figure size 1500x600 with 1 Axes>"
            ],
            "image/png": "[encoded data removed]"
          },
          "metadata": {}
        }
      ]
    }
  ]
}